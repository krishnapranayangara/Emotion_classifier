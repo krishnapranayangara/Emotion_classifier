{
 "cells": [
  {
   "cell_type": "code",
   "execution_count": 82,
   "id": "19c35659",
   "metadata": {},
   "outputs": [],
   "source": [
    "from bs4 import BeautifulSoup\n",
    "import requests\n",
    "import shutil\n",
    "import urllib.request"
   ]
  },
  {
   "cell_type": "code",
   "execution_count": 83,
   "id": "1e9ea126",
   "metadata": {},
   "outputs": [],
   "source": [
    "#we need a header with infor regrding the agent and browser configurations\n",
    "headers={'User-Agent':'Mozilla/5.0 (Windows NT 10.0; Win64; x64) AppleWebKit/537.36 (KHTML, like Gecko) Chrome/107.0.0.0 Safari/537.36'}"
   ]
  },
  {
   "cell_type": "code",
   "execution_count": 84,
   "id": "f4ccc2a2",
   "metadata": {},
   "outputs": [],
   "source": [
    "source=requests.get('https://www.istockphoto.com/search/2/image?mediatype=photography&page=1&phrase=sad%20people&sort=best&irgwc=1&cid=IS&utm_medium=affiliate_SP&utm_source=FreeImages&clickid=3oOWwh3VjxyNR7kTdz0yTWjoUkDSD80HuQFnUc0&utm_term=sad%20people&utm_campaign=srp_freephotos_top-view-more&utm_content=270498&irpid=246195',headers=headers).text\n",
    "soup=BeautifulSoup(source,'lxml')\n",
    "sad_images=[]\n",
    "img_links=soup.select('img[src^=\"https://media.istockphoto.com/id/\"]')\n",
    "#append links\n",
    "for i in range(len(img_links)):\n",
    "    sad_images.append(img_links[i]['src'])\n",
    "\n",
    "#path\n",
    "for i in range(len(sad_images)):\n",
    "    name=\"C:/Users/prana/Downloads/CAP Homework/Course project/images/sad/\"+str(i)+\".jpg\"\n",
    "    urllib.request.urlretrieve(sad_images[i],name)\n",
    "\n",
    "length=len(sad_images)"
   ]
  },
  {
   "cell_type": "code",
   "execution_count": 85,
   "id": "b7f529a9",
   "metadata": {},
   "outputs": [],
   "source": [
    "source=requests.get('https://www.istockphoto.com/search/2/image?mediatype=photography&page=2&phrase=sad%20people&sort=best&irgwc=1&cid=IS&utm_medium=affiliate_SP&utm_source=FreeImages&clickid=3oOWwh3VjxyNR7kTdz0yTWjoUkDSD80HuQFnUc0&utm_term=sad%20people&utm_campaign=srp_freephotos_top-view-more&utm_content=270498&irpid=246195',headers=headers).text\n",
    "soup=BeautifulSoup(source,'lxml')\n",
    "sad_images=[]\n",
    "img_links=soup.select('img[src^=\"https://media.istockphoto.com/id/\"]')\n",
    "#append links\n",
    "for i in range(len(img_links)):\n",
    "    sad_images.append(img_links[i]['src'])\n",
    "#path\n",
    "for i in range(len(sad_images)):\n",
    "    name=\"C:/Users/prana/Downloads/CAP Homework/Course project/images/sad/\"+str(length+i)+\".jpg\"\n",
    "    urllib.request.urlretrieve(sad_images[i],name)\n",
    "    \n",
    "length=length+len(sad_images)"
   ]
  },
  {
   "cell_type": "code",
   "execution_count": 86,
   "id": "d0b7a7de",
   "metadata": {},
   "outputs": [],
   "source": [
    "source=requests.get('https://www.istockphoto.com/search/2/image?mediatype=photography&page=3&phrase=sad%20people&sort=best&irgwc=1&cid=IS&utm_medium=affiliate_SP&utm_source=FreeImages&clickid=3oOWwh3VjxyNR7kTdz0yTWjoUkDSD80HuQFnUc0&utm_term=sad%20people&utm_campaign=srp_freephotos_top-view-more&utm_content=270498&irpid=246195',headers=headers).text\n",
    "soup=BeautifulSoup(source,'lxml')\n",
    "sad_images=[]\n",
    "img_links=soup.select('img[src^=\"https://media.istockphoto.com/id/\"]')\n",
    "#append links\n",
    "for i in range(len(img_links)):\n",
    "    sad_images.append(img_links[i]['src'])\n",
    "#path\n",
    "for i in range(len(sad_images)):\n",
    "    name=\"C:/Users/prana/Downloads/CAP Homework/Course project/images/sad/\"+str(length+i)+\".jpg\"\n",
    "    urllib.request.urlretrieve(sad_images[i],name)\n",
    "\n",
    "length=length+len(sad_images)"
   ]
  },
  {
   "cell_type": "code",
   "execution_count": 87,
   "id": "4d6e9752",
   "metadata": {},
   "outputs": [
    {
     "name": "stdout",
     "output_type": "stream",
     "text": [
      "final length=  240\n"
     ]
    }
   ],
   "source": [
    "source=requests.get('https://www.istockphoto.com/search/2/image?mediatype=photography&page=4&phrase=sad%20people&sort=best&irgwc=1&cid=IS&utm_medium=affiliate_SP&utm_source=FreeImages&clickid=3oOWwh3VjxyNR7kTdz0yTWjoUkDSD80HuQFnUc0&utm_term=sad%20people&utm_campaign=srp_freephotos_top-view-more&utm_content=270498&irpid=246195',headers=headers).text\n",
    "soup=BeautifulSoup(source,'lxml')\n",
    "sad_images=[]\n",
    "img_links=soup.select('img[src^=\"https://media.istockphoto.com/id/\"]')\n",
    "#append links\n",
    "for i in range(len(img_links)):\n",
    "    sad_images.append(img_links[i]['src'])\n",
    "#path\n",
    "for i in range(len(sad_images)):\n",
    "    name=\"C:/Users/prana/Downloads/CAP Homework/Course project/images/sad/\"+str(length+i)+\".jpg\"\n",
    "    urllib.request.urlretrieve(sad_images[i],name)\n",
    "\n",
    "print(\"final length= \",length+len(sad_images))"
   ]
  }
 ],
 "metadata": {
  "kernelspec": {
   "display_name": "Python 3 (ipykernel)",
   "language": "python",
   "name": "python3"
  },
  "language_info": {
   "codemirror_mode": {
    "name": "ipython",
    "version": 3
   },
   "file_extension": ".py",
   "mimetype": "text/x-python",
   "name": "python",
   "nbconvert_exporter": "python",
   "pygments_lexer": "ipython3",
   "version": "3.9.13"
  }
 },
 "nbformat": 4,
 "nbformat_minor": 5
}
