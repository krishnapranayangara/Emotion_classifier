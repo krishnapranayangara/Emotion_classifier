{
 "cells": [
  {
   "cell_type": "code",
   "execution_count": 1,
   "id": "ab3a3ea9",
   "metadata": {},
   "outputs": [],
   "source": [
    "from bs4 import BeautifulSoup\n",
    "import requests\n",
    "import shutil\n",
    "import urllib.request"
   ]
  },
  {
   "cell_type": "code",
   "execution_count": 2,
   "id": "c0721bae",
   "metadata": {},
   "outputs": [],
   "source": [
    "headers={'User-Agent':'Mozilla/5.0 (Windows NT 10.0; Win64; x64) AppleWebKit/537.36 (KHTML, like Gecko) Chrome/107.0.0.0 Safari/537.36'}"
   ]
  },
  {
   "cell_type": "code",
   "execution_count": 11,
   "id": "f4ab6408",
   "metadata": {},
   "outputs": [],
   "source": [
    "source=requests.get('https://www.istockphoto.com/search/2/image?mediatype=photography&numberofpeople=one&phrase=happy%20faces&sort=best&page=1',headers=headers).text\n",
    "soup=BeautifulSoup(source,'lxml')\n",
    "happy_images=[]\n",
    "img_links=soup.select('img[src^=\"https://media.istockphoto.com/id/\"]')\n",
    "\n",
    "for i in range(len(img_links)):\n",
    "    happy_images.append(img_links[i]['src'])\n",
    "\n",
    "\n",
    "for i in range(len(happy_images)):\n",
    "    name=\"C:/Users/prana/Downloads/CAP Homework/Course project/images/happy/\"+str(i)+\".jpg\"\n",
    "    urllib.request.urlretrieve(happy_images[i],name)\n",
    "\n",
    "length=len(happy_images)"
   ]
  },
  {
   "cell_type": "code",
   "execution_count": 12,
   "id": "64a99ba3",
   "metadata": {},
   "outputs": [],
   "source": [
    "source=requests.get('https://www.istockphoto.com/search/2/image?mediatype=photography&numberofpeople=one&phrase=happy%20faces&sort=best&page=2',headers=headers).text\n",
    "soup=BeautifulSoup(source,'lxml')\n",
    "happy_images=[]\n",
    "img_links=soup.select('img[src^=\"https://media.istockphoto.com/id/\"]')\n",
    "\n",
    "for i in range(len(img_links)):\n",
    "    happy_images.append(img_links[i]['src'])\n",
    "\n",
    "\n",
    "for i in range(len(happy_images)):\n",
    "    name=\"C:/Users/prana/Downloads/CAP Homework/Course project/images/happy/\"+str(length+i)+\".jpg\"\n",
    "    urllib.request.urlretrieve(happy_images[i],name)\n",
    "\n",
    "length=length+len(happy_images)"
   ]
  },
  {
   "cell_type": "code",
   "execution_count": 13,
   "id": "f6c991bc",
   "metadata": {},
   "outputs": [],
   "source": [
    "source=requests.get('https://www.istockphoto.com/search/2/image?mediatype=photography&numberofpeople=one&phrase=happy%20faces&sort=best&page=3',headers=headers).text\n",
    "soup=BeautifulSoup(source,'lxml')\n",
    "happy_images=[]\n",
    "img_links=soup.select('img[src^=\"https://media.istockphoto.com/id/\"]')\n",
    "\n",
    "for i in range(len(img_links)):\n",
    "    happy_images.append(img_links[i]['src'])\n",
    "\n",
    "\n",
    "for i in range(len(happy_images)):\n",
    "    name=\"C:/Users/prana/Downloads/CAP Homework/Course project/images/happy/\"+str(length+i)+\".jpg\"\n",
    "    urllib.request.urlretrieve(happy_images[i],name)\n",
    "\n",
    "length=length+len(happy_images)"
   ]
  },
  {
   "cell_type": "code",
   "execution_count": 14,
   "id": "15fa8cc6",
   "metadata": {},
   "outputs": [
    {
     "name": "stdout",
     "output_type": "stream",
     "text": [
      "final length=  240\n"
     ]
    }
   ],
   "source": [
    "source=requests.get('https://www.istockphoto.com/search/2/image?mediatype=photography&numberofpeople=one&phrase=happy%20faces&sort=best&page=4',headers=headers).text\n",
    "soup=BeautifulSoup(source,'lxml')\n",
    "happy_images=[]\n",
    "img_links=soup.select('img[src^=\"https://media.istockphoto.com/id/\"]')\n",
    "\n",
    "for i in range(len(img_links)):\n",
    "    happy_images.append(img_links[i]['src'])\n",
    "\n",
    "\n",
    "for i in range(len(happy_images)):\n",
    "    name=\"C:/Users/prana/Downloads/CAP Homework/Course project/images/happy/\"+str(length+i)+\".jpg\"\n",
    "    urllib.request.urlretrieve(happy_images[i],name)\n",
    "\n",
    "print(\"final length= \",length+len(happy_images))\n"
   ]
  }
 ],
 "metadata": {
  "kernelspec": {
   "display_name": "Python 3 (ipykernel)",
   "language": "python",
   "name": "python3"
  },
  "language_info": {
   "codemirror_mode": {
    "name": "ipython",
    "version": 3
   },
   "file_extension": ".py",
   "mimetype": "text/x-python",
   "name": "python",
   "nbconvert_exporter": "python",
   "pygments_lexer": "ipython3",
   "version": "3.9.13"
  }
 },
 "nbformat": 4,
 "nbformat_minor": 5
}
